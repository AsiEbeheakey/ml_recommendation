{
 "cells": [
  {
   "cell_type": "code",
   "execution_count": 2,
   "id": "0d14e20b-2bc7-464a-af34-d67b7c4e8c2a",
   "metadata": {},
   "outputs": [],
   "source": [
    "import pandas as pd\n",
    "\n",
    "pref_cols = ['staff_id', 'menu_id', 'pref_scale']\n",
    "preferences = pd.read_csv('preferences.csv', sep=',',names=pref_cols)\n",
    "\n",
    "menu_cols = ['menu', 'menu_id']\n",
    "menu = pd.read_csv('menu.csv',sep=',', names=menu_cols)\n",
    "\n",
    "preferences_output = pd.merge(menu, preferences)\n"
   ]
  },
  {
   "cell_type": "code",
   "execution_count": 3,
   "id": "e030bd79-4d80-4478-bd54-0f3a975b5e4c",
   "metadata": {
    "tags": []
   },
   "outputs": [
    {
     "data": {
      "text/html": [
       "<div>\n",
       "<style scoped>\n",
       "    .dataframe tbody tr th:only-of-type {\n",
       "        vertical-align: middle;\n",
       "    }\n",
       "\n",
       "    .dataframe tbody tr th {\n",
       "        vertical-align: top;\n",
       "    }\n",
       "\n",
       "    .dataframe thead th {\n",
       "        text-align: right;\n",
       "    }\n",
       "</style>\n",
       "<table border=\"1\" class=\"dataframe\">\n",
       "  <thead>\n",
       "    <tr style=\"text-align: right;\">\n",
       "      <th></th>\n",
       "      <th>menu</th>\n",
       "      <th>menu_id</th>\n",
       "      <th>staff_id</th>\n",
       "      <th>pref_scale</th>\n",
       "    </tr>\n",
       "  </thead>\n",
       "  <tbody>\n",
       "    <tr>\n",
       "      <th>0</th>\n",
       "      <td>Fried yam with chicken and sausage pieces</td>\n",
       "      <td>1</td>\n",
       "      <td>1</td>\n",
       "      <td>3</td>\n",
       "    </tr>\n",
       "    <tr>\n",
       "      <th>1</th>\n",
       "      <td>Fufu with goat light soup</td>\n",
       "      <td>2</td>\n",
       "      <td>2</td>\n",
       "      <td>8</td>\n",
       "    </tr>\n",
       "    <tr>\n",
       "      <th>2</th>\n",
       "      <td>Vermicelli rice with chicken/fish with sauteed...</td>\n",
       "      <td>3</td>\n",
       "      <td>3</td>\n",
       "      <td>4</td>\n",
       "    </tr>\n",
       "    <tr>\n",
       "      <th>3</th>\n",
       "      <td>Vegetable rice with tomato stew with fried chi...</td>\n",
       "      <td>4</td>\n",
       "      <td>4</td>\n",
       "      <td>2</td>\n",
       "    </tr>\n",
       "    <tr>\n",
       "      <th>4</th>\n",
       "      <td>Curry rice with sausage stew with fried plantain</td>\n",
       "      <td>5</td>\n",
       "      <td>5</td>\n",
       "      <td>2</td>\n",
       "    </tr>\n",
       "  </tbody>\n",
       "</table>\n",
       "</div>"
      ],
      "text/plain": [
       "                                                menu  menu_id  staff_id   \n",
       "0          Fried yam with chicken and sausage pieces        1         1  \\\n",
       "1                          Fufu with goat light soup        2         2   \n",
       "2  Vermicelli rice with chicken/fish with sauteed...        3         3   \n",
       "3  Vegetable rice with tomato stew with fried chi...        4         4   \n",
       "4   Curry rice with sausage stew with fried plantain        5         5   \n",
       "\n",
       "   pref_scale  \n",
       "0           3  \n",
       "1           8  \n",
       "2           4  \n",
       "3           2  \n",
       "4           2  "
      ]
     },
     "execution_count": 3,
     "metadata": {},
     "output_type": "execute_result"
    }
   ],
   "source": [
    "preferences_output.head()"
   ]
  },
  {
   "cell_type": "code",
   "execution_count": 8,
   "id": "339abc7b-02fb-4d75-a2cb-9f0d99704677",
   "metadata": {
    "tags": []
   },
   "outputs": [
    {
     "data": {
      "text/html": [
       "<div>\n",
       "<style scoped>\n",
       "    .dataframe tbody tr th:only-of-type {\n",
       "        vertical-align: middle;\n",
       "    }\n",
       "\n",
       "    .dataframe tbody tr th {\n",
       "        vertical-align: top;\n",
       "    }\n",
       "\n",
       "    .dataframe thead th {\n",
       "        text-align: right;\n",
       "    }\n",
       "</style>\n",
       "<table border=\"1\" class=\"dataframe\">\n",
       "  <thead>\n",
       "    <tr style=\"text-align: right;\">\n",
       "      <th></th>\n",
       "      <th>menu</th>\n",
       "      <th>menu_id</th>\n",
       "      <th>staff_id</th>\n",
       "      <th>pref_scale</th>\n",
       "    </tr>\n",
       "  </thead>\n",
       "  <tbody>\n",
       "    <tr>\n",
       "      <th>0</th>\n",
       "      <td>Fried yam with chicken and sausage pieces</td>\n",
       "      <td>1</td>\n",
       "      <td>1</td>\n",
       "      <td>3</td>\n",
       "    </tr>\n",
       "    <tr>\n",
       "      <th>1</th>\n",
       "      <td>Fufu with goat light soup</td>\n",
       "      <td>2</td>\n",
       "      <td>2</td>\n",
       "      <td>8</td>\n",
       "    </tr>\n",
       "    <tr>\n",
       "      <th>2</th>\n",
       "      <td>Vermicelli rice with chicken/fish with sauteed...</td>\n",
       "      <td>3</td>\n",
       "      <td>3</td>\n",
       "      <td>4</td>\n",
       "    </tr>\n",
       "    <tr>\n",
       "      <th>3</th>\n",
       "      <td>Vegetable rice with tomato stew with fried chi...</td>\n",
       "      <td>4</td>\n",
       "      <td>4</td>\n",
       "      <td>2</td>\n",
       "    </tr>\n",
       "    <tr>\n",
       "      <th>4</th>\n",
       "      <td>Curry rice with sausage stew with fried plantain</td>\n",
       "      <td>5</td>\n",
       "      <td>5</td>\n",
       "      <td>2</td>\n",
       "    </tr>\n",
       "    <tr>\n",
       "      <th>5</th>\n",
       "      <td>Waakye with beef and egg with gari/spag/veggies</td>\n",
       "      <td>6</td>\n",
       "      <td>6</td>\n",
       "      <td>15</td>\n",
       "    </tr>\n",
       "    <tr>\n",
       "      <th>6</th>\n",
       "      <td>Rice with kontomire stew with fish</td>\n",
       "      <td>7</td>\n",
       "      <td>7</td>\n",
       "      <td>9</td>\n",
       "    </tr>\n",
       "  </tbody>\n",
       "</table>\n",
       "</div>"
      ],
      "text/plain": [
       "                                                menu  menu_id  staff_id   \n",
       "0          Fried yam with chicken and sausage pieces        1         1  \\\n",
       "1                          Fufu with goat light soup        2         2   \n",
       "2  Vermicelli rice with chicken/fish with sauteed...        3         3   \n",
       "3  Vegetable rice with tomato stew with fried chi...        4         4   \n",
       "4   Curry rice with sausage stew with fried plantain        5         5   \n",
       "5    Waakye with beef and egg with gari/spag/veggies        6         6   \n",
       "6                 Rice with kontomire stew with fish        7         7   \n",
       "\n",
       "   pref_scale  \n",
       "0           3  \n",
       "1           8  \n",
       "2           4  \n",
       "3           2  \n",
       "4           2  \n",
       "5          15  \n",
       "6           9  "
      ]
     },
     "execution_count": 8,
     "metadata": {},
     "output_type": "execute_result"
    }
   ],
   "source": [
    "preferences_output.head(10)"
   ]
  },
  {
   "cell_type": "code",
   "execution_count": 6,
   "id": "29061d59-bbff-4bae-9dba-c612f246d073",
   "metadata": {},
   "outputs": [
    {
     "data": {
      "text/html": [
       "<div>\n",
       "<style scoped>\n",
       "    .dataframe tbody tr th:only-of-type {\n",
       "        vertical-align: middle;\n",
       "    }\n",
       "\n",
       "    .dataframe tbody tr th {\n",
       "        vertical-align: top;\n",
       "    }\n",
       "\n",
       "    .dataframe thead th {\n",
       "        text-align: right;\n",
       "    }\n",
       "</style>\n",
       "<table border=\"1\" class=\"dataframe\">\n",
       "  <thead>\n",
       "    <tr style=\"text-align: right;\">\n",
       "      <th>menu</th>\n",
       "      <th>Curry rice with sausage stew with fried plantain</th>\n",
       "      <th>Fried yam with chicken and sausage pieces</th>\n",
       "      <th>Fufu with goat light soup</th>\n",
       "      <th>Rice with kontomire stew with fish</th>\n",
       "      <th>Vegetable rice with tomato stew with fried chicken/fish</th>\n",
       "      <th>Vermicelli rice with chicken/fish with sauteed veggies</th>\n",
       "      <th>Waakye with beef and egg with gari/spag/veggies</th>\n",
       "    </tr>\n",
       "    <tr>\n",
       "      <th>staff_id</th>\n",
       "      <th></th>\n",
       "      <th></th>\n",
       "      <th></th>\n",
       "      <th></th>\n",
       "      <th></th>\n",
       "      <th></th>\n",
       "      <th></th>\n",
       "    </tr>\n",
       "  </thead>\n",
       "  <tbody>\n",
       "    <tr>\n",
       "      <th>1</th>\n",
       "      <td>NaN</td>\n",
       "      <td>3.0</td>\n",
       "      <td>NaN</td>\n",
       "      <td>NaN</td>\n",
       "      <td>NaN</td>\n",
       "      <td>NaN</td>\n",
       "      <td>NaN</td>\n",
       "    </tr>\n",
       "    <tr>\n",
       "      <th>2</th>\n",
       "      <td>NaN</td>\n",
       "      <td>NaN</td>\n",
       "      <td>8.0</td>\n",
       "      <td>NaN</td>\n",
       "      <td>NaN</td>\n",
       "      <td>NaN</td>\n",
       "      <td>NaN</td>\n",
       "    </tr>\n",
       "    <tr>\n",
       "      <th>3</th>\n",
       "      <td>NaN</td>\n",
       "      <td>NaN</td>\n",
       "      <td>NaN</td>\n",
       "      <td>NaN</td>\n",
       "      <td>NaN</td>\n",
       "      <td>4.0</td>\n",
       "      <td>NaN</td>\n",
       "    </tr>\n",
       "    <tr>\n",
       "      <th>4</th>\n",
       "      <td>NaN</td>\n",
       "      <td>NaN</td>\n",
       "      <td>NaN</td>\n",
       "      <td>NaN</td>\n",
       "      <td>2.0</td>\n",
       "      <td>NaN</td>\n",
       "      <td>NaN</td>\n",
       "    </tr>\n",
       "    <tr>\n",
       "      <th>5</th>\n",
       "      <td>2.0</td>\n",
       "      <td>NaN</td>\n",
       "      <td>NaN</td>\n",
       "      <td>NaN</td>\n",
       "      <td>NaN</td>\n",
       "      <td>NaN</td>\n",
       "      <td>NaN</td>\n",
       "    </tr>\n",
       "  </tbody>\n",
       "</table>\n",
       "</div>"
      ],
      "text/plain": [
       "menu      Curry rice with sausage stew with fried plantain   \n",
       "staff_id                                                     \n",
       "1                                                      NaN  \\\n",
       "2                                                      NaN   \n",
       "3                                                      NaN   \n",
       "4                                                      NaN   \n",
       "5                                                      2.0   \n",
       "\n",
       "menu      Fried yam with chicken and sausage pieces   \n",
       "staff_id                                              \n",
       "1                                               3.0  \\\n",
       "2                                               NaN   \n",
       "3                                               NaN   \n",
       "4                                               NaN   \n",
       "5                                               NaN   \n",
       "\n",
       "menu      Fufu with goat light soup  Rice with kontomire stew with fish   \n",
       "staff_id                                                                  \n",
       "1                               NaN                                 NaN  \\\n",
       "2                               8.0                                 NaN   \n",
       "3                               NaN                                 NaN   \n",
       "4                               NaN                                 NaN   \n",
       "5                               NaN                                 NaN   \n",
       "\n",
       "menu      Vegetable rice with tomato stew with fried chicken/fish   \n",
       "staff_id                                                            \n",
       "1                                                       NaN        \\\n",
       "2                                                       NaN         \n",
       "3                                                       NaN         \n",
       "4                                                       2.0         \n",
       "5                                                       NaN         \n",
       "\n",
       "menu      Vermicelli rice with chicken/fish with sauteed veggies   \n",
       "staff_id                                                           \n",
       "1                                                       NaN       \\\n",
       "2                                                       NaN        \n",
       "3                                                       4.0        \n",
       "4                                                       NaN        \n",
       "5                                                       NaN        \n",
       "\n",
       "menu      Waakye with beef and egg with gari/spag/veggies  \n",
       "staff_id                                                   \n",
       "1                                                     NaN  \n",
       "2                                                     NaN  \n",
       "3                                                     NaN  \n",
       "4                                                     NaN  \n",
       "5                                                     NaN  "
      ]
     },
     "execution_count": 6,
     "metadata": {},
     "output_type": "execute_result"
    }
   ],
   "source": [
    "menu_preferences = preferences_output.pivot_table (index=['staff_id'],columns=['menu'], values='pref_scale')\n",
    "menu_preferences.head()"
   ]
  },
  {
   "cell_type": "code",
   "execution_count": 7,
   "id": "d6c14014-abcb-4866-a1fc-06b028c5a0ff",
   "metadata": {},
   "outputs": [
    {
     "data": {
      "text/plain": [
       "staff_id\n",
       "1    NaN\n",
       "2    8.0\n",
       "3    NaN\n",
       "4    NaN\n",
       "5    NaN\n",
       "Name: Fufu with goat light soup, dtype: float64"
      ]
     },
     "execution_count": 7,
     "metadata": {},
     "output_type": "execute_result"
    }
   ],
   "source": [
    "fufu_goatsoup = menu_preferences['Fufu with goat light soup']\n",
    "fufu_goatsoup.head()"
   ]
  },
  {
   "cell_type": "code",
   "execution_count": 8,
   "id": "e4451629-bcb5-4c74-9b4d-4149ddbbde4a",
   "metadata": {
    "tags": []
   },
   "outputs": [
    {
     "name": "stderr",
     "output_type": "stream",
     "text": [
      "C:\\Users\\alber\\miniconda3\\envs\\penda_env\\Lib\\site-packages\\numpy\\lib\\function_base.py:2846: RuntimeWarning: Degrees of freedom <= 0 for slice\n",
      "  c = cov(x, y, rowvar, dtype=dtype)\n",
      "C:\\Users\\alber\\miniconda3\\envs\\penda_env\\Lib\\site-packages\\numpy\\lib\\function_base.py:2705: RuntimeWarning: divide by zero encountered in divide\n",
      "  c *= np.true_divide(1, fact)\n"
     ]
    },
    {
     "data": {
      "text/html": [
       "<div>\n",
       "<style scoped>\n",
       "    .dataframe tbody tr th:only-of-type {\n",
       "        vertical-align: middle;\n",
       "    }\n",
       "\n",
       "    .dataframe tbody tr th {\n",
       "        vertical-align: top;\n",
       "    }\n",
       "\n",
       "    .dataframe thead th {\n",
       "        text-align: right;\n",
       "    }\n",
       "</style>\n",
       "<table border=\"1\" class=\"dataframe\">\n",
       "  <thead>\n",
       "    <tr style=\"text-align: right;\">\n",
       "      <th></th>\n",
       "      <th>0</th>\n",
       "    </tr>\n",
       "    <tr>\n",
       "      <th>menu</th>\n",
       "      <th></th>\n",
       "    </tr>\n",
       "  </thead>\n",
       "  <tbody>\n",
       "  </tbody>\n",
       "</table>\n",
       "</div>"
      ],
      "text/plain": [
       "Empty DataFrame\n",
       "Columns: [0]\n",
       "Index: []"
      ]
     },
     "execution_count": 8,
     "metadata": {},
     "output_type": "execute_result"
    }
   ],
   "source": [
    "similarMenus = menu_preferences.corrwith(fufu_goatsoup)\n",
    "similarMenus = similarMenus.dropna()\n",
    "df = pd.DataFrame(similarMenus)\n",
    "df.head(10)"
   ]
  },
  {
   "cell_type": "code",
   "execution_count": 9,
   "id": "fbdb56bc-642f-4437-86a4-2ffd67c489a4",
   "metadata": {
    "tags": []
   },
   "outputs": [
    {
     "data": {
      "text/plain": [
       "staff_id\n",
       "1    NaN\n",
       "2    NaN\n",
       "3    NaN\n",
       "4    NaN\n",
       "5    2.0\n",
       "Name: Curry rice with sausage stew with fried plantain, dtype: float64"
      ]
     },
     "execution_count": 9,
     "metadata": {},
     "output_type": "execute_result"
    }
   ],
   "source": [
    "curryricer = menu_preferences[\"Curry rice with sausage stew with fried plantain\"]\n",
    "curryricer.head()"
   ]
  },
  {
   "cell_type": "code",
   "execution_count": 10,
   "id": "2a3ff023-36e3-483f-ab16-d519fa8efa94",
   "metadata": {
    "tags": []
   },
   "outputs": [
    {
     "name": "stderr",
     "output_type": "stream",
     "text": [
      "C:\\Users\\alber\\miniconda3\\envs\\penda_env\\Lib\\site-packages\\numpy\\lib\\function_base.py:2846: RuntimeWarning: Degrees of freedom <= 0 for slice\n",
      "  c = cov(x, y, rowvar, dtype=dtype)\n",
      "C:\\Users\\alber\\miniconda3\\envs\\penda_env\\Lib\\site-packages\\numpy\\lib\\function_base.py:2705: RuntimeWarning: divide by zero encountered in divide\n",
      "  c *= np.true_divide(1, fact)\n"
     ]
    },
    {
     "data": {
      "text/html": [
       "<div>\n",
       "<style scoped>\n",
       "    .dataframe tbody tr th:only-of-type {\n",
       "        vertical-align: middle;\n",
       "    }\n",
       "\n",
       "    .dataframe tbody tr th {\n",
       "        vertical-align: top;\n",
       "    }\n",
       "\n",
       "    .dataframe thead th {\n",
       "        text-align: right;\n",
       "    }\n",
       "</style>\n",
       "<table border=\"1\" class=\"dataframe\">\n",
       "  <thead>\n",
       "    <tr style=\"text-align: right;\">\n",
       "      <th></th>\n",
       "      <th>0</th>\n",
       "    </tr>\n",
       "    <tr>\n",
       "      <th>menu</th>\n",
       "      <th></th>\n",
       "    </tr>\n",
       "  </thead>\n",
       "  <tbody>\n",
       "  </tbody>\n",
       "</table>\n",
       "</div>"
      ],
      "text/plain": [
       "Empty DataFrame\n",
       "Columns: [0]\n",
       "Index: []"
      ]
     },
     "execution_count": 10,
     "metadata": {},
     "output_type": "execute_result"
    }
   ],
   "source": [
    "similarmenus = menu_preferences.corrwith(curryricer)\n",
    "similarmenus = similarmenus.dropna()\n",
    "df = pd.DataFrame(similarmenus)\n",
    "df.head(10)"
   ]
  },
  {
   "cell_type": "code",
   "execution_count": null,
   "id": "bdd05e2e-83a2-4489-93e5-5822d22ce6f4",
   "metadata": {},
   "outputs": [],
   "source": []
  }
 ],
 "metadata": {
  "kernelspec": {
   "display_name": "Python 3 (ipykernel)",
   "language": "python",
   "name": "python3"
  },
  "language_info": {
   "codemirror_mode": {
    "name": "ipython",
    "version": 3
   },
   "file_extension": ".py",
   "mimetype": "text/x-python",
   "name": "python",
   "nbconvert_exporter": "python",
   "pygments_lexer": "ipython3",
   "version": "3.11.3"
  }
 },
 "nbformat": 4,
 "nbformat_minor": 5
}
